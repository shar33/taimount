{
 "cells": [
  {
   "cell_type": "code",
   "execution_count": 1,
   "metadata": {},
   "outputs": [],
   "source": [
    "import pandas as pd"
   ]
  },
  {
   "cell_type": "code",
   "execution_count": 17,
   "metadata": {},
   "outputs": [
    {
     "data": {
      "text/html": [
       "<div>\n",
       "<style scoped>\n",
       "    .dataframe tbody tr th:only-of-type {\n",
       "        vertical-align: middle;\n",
       "    }\n",
       "\n",
       "    .dataframe tbody tr th {\n",
       "        vertical-align: top;\n",
       "    }\n",
       "\n",
       "    .dataframe thead th {\n",
       "        text-align: right;\n",
       "    }\n",
       "</style>\n",
       "<table border=\"1\" class=\"dataframe\">\n",
       "  <thead>\n",
       "    <tr style=\"text-align: right;\">\n",
       "      <th></th>\n",
       "      <th>stockcode</th>\n",
       "      <th>简称</th>\n",
       "      <th>tradedate</th>\n",
       "      <th>price</th>\n",
       "    </tr>\n",
       "  </thead>\n",
       "  <tbody>\n",
       "    <tr>\n",
       "      <th>0</th>\n",
       "      <td>000001.SZ</td>\n",
       "      <td>平安银行</td>\n",
       "      <td>2000-01-28</td>\n",
       "      <td>18.50</td>\n",
       "    </tr>\n",
       "    <tr>\n",
       "      <th>1</th>\n",
       "      <td>000001.SZ</td>\n",
       "      <td>平安银行</td>\n",
       "      <td>2000-02-29</td>\n",
       "      <td>18.32</td>\n",
       "    </tr>\n",
       "    <tr>\n",
       "      <th>2</th>\n",
       "      <td>000001.SZ</td>\n",
       "      <td>平安银行</td>\n",
       "      <td>2000-03-31</td>\n",
       "      <td>18.37</td>\n",
       "    </tr>\n",
       "    <tr>\n",
       "      <th>3</th>\n",
       "      <td>000001.SZ</td>\n",
       "      <td>平安银行</td>\n",
       "      <td>2000-04-28</td>\n",
       "      <td>19.06</td>\n",
       "    </tr>\n",
       "    <tr>\n",
       "      <th>4</th>\n",
       "      <td>000001.SZ</td>\n",
       "      <td>平安银行</td>\n",
       "      <td>2000-05-31</td>\n",
       "      <td>18.00</td>\n",
       "    </tr>\n",
       "  </tbody>\n",
       "</table>\n",
       "</div>"
      ],
      "text/plain": [
       "   stockcode    简称   tradedate  price\n",
       "0  000001.SZ  平安银行  2000-01-28  18.50\n",
       "1  000001.SZ  平安银行  2000-02-29  18.32\n",
       "2  000001.SZ  平安银行  2000-03-31  18.37\n",
       "3  000001.SZ  平安银行  2000-04-28  19.06\n",
       "4  000001.SZ  平安银行  2000-05-31  18.00"
      ]
     },
     "execution_count": 17,
     "metadata": {},
     "output_type": "execute_result"
    }
   ],
   "source": [
    "price=pd.read_excel(r\"D:\\研究生毕设\\毕设\\value premium\\数据\\A股1.xlsx\",sheet_name=\"price\")\n",
    "price.head()"
   ]
  },
  {
   "cell_type": "code",
   "execution_count": 18,
   "metadata": {},
   "outputs": [
    {
     "data": {
      "text/html": [
       "<div>\n",
       "<style scoped>\n",
       "    .dataframe tbody tr th:only-of-type {\n",
       "        vertical-align: middle;\n",
       "    }\n",
       "\n",
       "    .dataframe tbody tr th {\n",
       "        vertical-align: top;\n",
       "    }\n",
       "\n",
       "    .dataframe thead th {\n",
       "        text-align: right;\n",
       "    }\n",
       "</style>\n",
       "<table border=\"1\" class=\"dataframe\">\n",
       "  <thead>\n",
       "    <tr style=\"text-align: right;\">\n",
       "      <th></th>\n",
       "      <th>stockcode</th>\n",
       "      <th>简称</th>\n",
       "      <th>tradedate</th>\n",
       "      <th>pb</th>\n",
       "    </tr>\n",
       "  </thead>\n",
       "  <tbody>\n",
       "    <tr>\n",
       "      <th>0</th>\n",
       "      <td>000001.SZ</td>\n",
       "      <td>平安银行</td>\n",
       "      <td>2000-01-28</td>\n",
       "      <td>7.3283</td>\n",
       "    </tr>\n",
       "    <tr>\n",
       "      <th>1</th>\n",
       "      <td>000001.SZ</td>\n",
       "      <td>平安银行</td>\n",
       "      <td>2000-02-29</td>\n",
       "      <td>7.257</td>\n",
       "    </tr>\n",
       "    <tr>\n",
       "      <th>2</th>\n",
       "      <td>000001.SZ</td>\n",
       "      <td>平安银行</td>\n",
       "      <td>2000-03-31</td>\n",
       "      <td>7.2769</td>\n",
       "    </tr>\n",
       "    <tr>\n",
       "      <th>3</th>\n",
       "      <td>000001.SZ</td>\n",
       "      <td>平安银行</td>\n",
       "      <td>2000-04-28</td>\n",
       "      <td>10.1965</td>\n",
       "    </tr>\n",
       "    <tr>\n",
       "      <th>4</th>\n",
       "      <td>000001.SZ</td>\n",
       "      <td>平安银行</td>\n",
       "      <td>2000-05-31</td>\n",
       "      <td>9.6294</td>\n",
       "    </tr>\n",
       "  </tbody>\n",
       "</table>\n",
       "</div>"
      ],
      "text/plain": [
       "   stockcode    简称   tradedate       pb\n",
       "0  000001.SZ  平安银行  2000-01-28   7.3283\n",
       "1  000001.SZ  平安银行  2000-02-29    7.257\n",
       "2  000001.SZ  平安银行  2000-03-31   7.2769\n",
       "3  000001.SZ  平安银行  2000-04-28  10.1965\n",
       "4  000001.SZ  平安银行  2000-05-31   9.6294"
      ]
     },
     "execution_count": 18,
     "metadata": {},
     "output_type": "execute_result"
    }
   ],
   "source": [
    "pb=pd.read_excel(r\"D:\\研究生毕设\\毕设\\value premium\\数据\\A股1.xlsx\",sheet_name='pb')\n",
    "pb.head()"
   ]
  },
  {
   "cell_type": "code",
   "execution_count": 20,
   "metadata": {},
   "outputs": [
    {
     "data": {
      "text/html": [
       "<div>\n",
       "<style scoped>\n",
       "    .dataframe tbody tr th:only-of-type {\n",
       "        vertical-align: middle;\n",
       "    }\n",
       "\n",
       "    .dataframe tbody tr th {\n",
       "        vertical-align: top;\n",
       "    }\n",
       "\n",
       "    .dataframe thead th {\n",
       "        text-align: right;\n",
       "    }\n",
       "</style>\n",
       "<table border=\"1\" class=\"dataframe\">\n",
       "  <thead>\n",
       "    <tr style=\"text-align: right;\">\n",
       "      <th></th>\n",
       "      <th>stockcode</th>\n",
       "      <th>简称</th>\n",
       "      <th>tradedate</th>\n",
       "      <th>mkt</th>\n",
       "    </tr>\n",
       "  </thead>\n",
       "  <tbody>\n",
       "    <tr>\n",
       "      <th>0</th>\n",
       "      <td>000001.SZ</td>\n",
       "      <td>平安银行</td>\n",
       "      <td>2000-01-28</td>\n",
       "      <td>28709171202</td>\n",
       "    </tr>\n",
       "    <tr>\n",
       "      <th>1</th>\n",
       "      <td>000001.SZ</td>\n",
       "      <td>平安银行</td>\n",
       "      <td>2000-02-29</td>\n",
       "      <td>28429838725</td>\n",
       "    </tr>\n",
       "    <tr>\n",
       "      <th>2</th>\n",
       "      <td>000001.SZ</td>\n",
       "      <td>平安银行</td>\n",
       "      <td>2000-03-31</td>\n",
       "      <td>28507431080</td>\n",
       "    </tr>\n",
       "    <tr>\n",
       "      <th>3</th>\n",
       "      <td>000001.SZ</td>\n",
       "      <td>平安银行</td>\n",
       "      <td>2000-04-28</td>\n",
       "      <td>29578205574</td>\n",
       "    </tr>\n",
       "    <tr>\n",
       "      <th>4</th>\n",
       "      <td>000001.SZ</td>\n",
       "      <td>平安银行</td>\n",
       "      <td>2000-05-31</td>\n",
       "      <td>27933247656</td>\n",
       "    </tr>\n",
       "  </tbody>\n",
       "</table>\n",
       "</div>"
      ],
      "text/plain": [
       "   stockcode    简称   tradedate          mkt\n",
       "0  000001.SZ  平安银行  2000-01-28  28709171202\n",
       "1  000001.SZ  平安银行  2000-02-29  28429838725\n",
       "2  000001.SZ  平安银行  2000-03-31  28507431080\n",
       "3  000001.SZ  平安银行  2000-04-28  29578205574\n",
       "4  000001.SZ  平安银行  2000-05-31  27933247656"
      ]
     },
     "execution_count": 20,
     "metadata": {},
     "output_type": "execute_result"
    }
   ],
   "source": [
    "mkt=pd.read_excel(r\"D:\\研究生毕设\\毕设\\value premium\\数据\\A股1.xlsx\",sheet_name='mkt')\n",
    "mkt.head()\n"
   ]
  },
  {
   "cell_type": "code",
   "execution_count": 5,
   "metadata": {},
   "outputs": [],
   "source": [
    "def panel_fill(data,time,individual,value):\n",
    "    data=data.sort_values(by=[time,individual]).reset_index(drop=True)\n",
    "    if data[value].isna().sum()==0:\n",
    "        print(\"原始数据不含有缺失值\")\n",
    "        return data\n",
    "    else:\n",
    "        missing_sum=data[value].isna().sum()\n",
    "        data_group=data.groupby(individual)\n",
    "        data=data_group.transform(lambda x: x.interpolate(method='linear',limit_direction='both')).join(data.reset_index()[individual])\n",
    "        if data[value].isna().sum()==0:\n",
    "            print(\"原始数据缺失值数量为：\",missing_sum,\"，已处理\")\n",
    "            return data\n",
    "        else:\n",
    "            data=data[[time,individual]].join(data.groupby(time)[value].transform(lambda x: x.fillna(x.mean())).reset_index(drop=True))\n",
    "            if data[value].isna().sum()==0:\n",
    "                print(\"存在有组全部缺失，已处理\")\n",
    "                return data\n",
    "            else:\n",
    "                print(\"经处理后，仍含有缺失值\")\n",
    "                return data"
   ]
  },
  {
   "cell_type": "code",
   "execution_count": null,
   "metadata": {},
   "outputs": [],
   "source": [
    "BM=pb.copy()\n",
    "BM['BM']=1/BM['pb']\n"
   ]
  },
  {
   "cell_type": "code",
   "execution_count": 32,
   "metadata": {},
   "outputs": [
    {
     "data": {
      "text/plain": [
       "stockcode    0\n",
       "简称           0\n",
       "tradedate    0\n",
       "pb           0\n",
       "dtype: int64"
      ]
     },
     "execution_count": 32,
     "metadata": {},
     "output_type": "execute_result"
    }
   ],
   "source": [
    "pb.isnull().sum()"
   ]
  },
  {
   "cell_type": "code",
   "execution_count": 33,
   "metadata": {},
   "outputs": [
    {
     "data": {
      "text/plain": [
       "stockcode    object\n",
       "简称           object\n",
       "tradedate    object\n",
       "pb           object\n",
       "dtype: object"
      ]
     },
     "execution_count": 33,
     "metadata": {},
     "output_type": "execute_result"
    }
   ],
   "source": [
    "pb.dtypes"
   ]
  },
  {
   "cell_type": "code",
   "execution_count": 36,
   "metadata": {},
   "outputs": [
    {
     "name": "stdout",
     "output_type": "stream",
     "text": [
      "原始数据缺失值数量为： 129 ，已处理\n"
     ]
    }
   ],
   "source": [
    "pb['pb']=pd.to_numeric( pb['pb'],errors='coerce')\n",
    "BM=pb.copy()\n",
    "BM['BM']=1/BM['pb']\n",
    "BM=panel_fill(BM,\"tradedate\",'stockcode','pb')"
   ]
  },
  {
   "cell_type": "code",
   "execution_count": 38,
   "metadata": {},
   "outputs": [
    {
     "data": {
      "text/html": [
       "<div>\n",
       "<style scoped>\n",
       "    .dataframe tbody tr th:only-of-type {\n",
       "        vertical-align: middle;\n",
       "    }\n",
       "\n",
       "    .dataframe tbody tr th {\n",
       "        vertical-align: top;\n",
       "    }\n",
       "\n",
       "    .dataframe thead th {\n",
       "        text-align: right;\n",
       "    }\n",
       "</style>\n",
       "<table border=\"1\" class=\"dataframe\">\n",
       "  <thead>\n",
       "    <tr style=\"text-align: right;\">\n",
       "      <th></th>\n",
       "      <th>stockcode</th>\n",
       "      <th>简称</th>\n",
       "      <th>tradedate</th>\n",
       "      <th>pb</th>\n",
       "    </tr>\n",
       "  </thead>\n",
       "  <tbody>\n",
       "    <tr>\n",
       "      <th>0</th>\n",
       "      <td>000001.SZ</td>\n",
       "      <td>平安银行</td>\n",
       "      <td>2000-01-28</td>\n",
       "      <td>7.3283</td>\n",
       "    </tr>\n",
       "    <tr>\n",
       "      <th>1</th>\n",
       "      <td>000001.SZ</td>\n",
       "      <td>平安银行</td>\n",
       "      <td>2000-02-29</td>\n",
       "      <td>7.2570</td>\n",
       "    </tr>\n",
       "    <tr>\n",
       "      <th>2</th>\n",
       "      <td>000001.SZ</td>\n",
       "      <td>平安银行</td>\n",
       "      <td>2000-03-31</td>\n",
       "      <td>7.2769</td>\n",
       "    </tr>\n",
       "    <tr>\n",
       "      <th>3</th>\n",
       "      <td>000001.SZ</td>\n",
       "      <td>平安银行</td>\n",
       "      <td>2000-04-28</td>\n",
       "      <td>10.1965</td>\n",
       "    </tr>\n",
       "    <tr>\n",
       "      <th>4</th>\n",
       "      <td>000001.SZ</td>\n",
       "      <td>平安银行</td>\n",
       "      <td>2000-05-31</td>\n",
       "      <td>9.6294</td>\n",
       "    </tr>\n",
       "  </tbody>\n",
       "</table>\n",
       "</div>"
      ],
      "text/plain": [
       "   stockcode    简称   tradedate       pb\n",
       "0  000001.SZ  平安银行  2000-01-28   7.3283\n",
       "1  000001.SZ  平安银行  2000-02-29   7.2570\n",
       "2  000001.SZ  平安银行  2000-03-31   7.2769\n",
       "3  000001.SZ  平安银行  2000-04-28  10.1965\n",
       "4  000001.SZ  平安银行  2000-05-31   9.6294"
      ]
     },
     "execution_count": 38,
     "metadata": {},
     "output_type": "execute_result"
    }
   ],
   "source": [
    "type(pb)\n",
    "pb.head()"
   ]
  },
  {
   "cell_type": "code",
   "execution_count": 40,
   "metadata": {},
   "outputs": [
    {
     "data": {
      "text/plain": [
       "0         2000-01-28\n",
       "1         2000-02-29\n",
       "2         2000-03-31\n",
       "3         2000-04-28\n",
       "4         2000-05-31\n",
       "             ...    \n",
       "486791    2021-11-30\n",
       "486792    2021-12-31\n",
       "486793    2022-01-28\n",
       "486794    2022-02-28\n",
       "486795    2022-03-30\n",
       "Name: tradedate, Length: 486796, dtype: object"
      ]
     },
     "execution_count": 40,
     "metadata": {},
     "output_type": "execute_result"
    }
   ],
   "source": [
    "price.tradedate"
   ]
  },
  {
   "cell_type": "code",
   "execution_count": 39,
   "metadata": {},
   "outputs": [
    {
     "data": {
      "text/plain": [
       "0         2000-01-28\n",
       "1         2000-02-29\n",
       "2         2000-03-31\n",
       "3         2000-04-28\n",
       "4         2000-05-31\n",
       "             ...    \n",
       "486791    2021-11-30\n",
       "486792    2021-12-31\n",
       "486793    2022-01-28\n",
       "486794    2022-02-28\n",
       "486795    2022-03-30\n",
       "Name: tradedate, Length: 486796, dtype: object"
      ]
     },
     "execution_count": 39,
     "metadata": {},
     "output_type": "execute_result"
    }
   ],
   "source": [
    "price['tradedate'] "
   ]
  },
  {
   "cell_type": "code",
   "execution_count": 42,
   "metadata": {},
   "outputs": [
    {
     "data": {
      "text/plain": [
       "pandas.core.series.Series"
      ]
     },
     "execution_count": 42,
     "metadata": {},
     "output_type": "execute_result"
    }
   ],
   "source": [
    "pd.to_datetime(price.tradedate)"
   ]
  },
  {
   "cell_type": "code",
   "execution_count": 44,
   "metadata": {},
   "outputs": [
    {
     "data": {
      "text/plain": [
       "stockcode            object\n",
       "简称                   object\n",
       "tradedate    datetime64[ns]\n",
       "pb                  float64\n",
       "dtype: object"
      ]
     },
     "execution_count": 44,
     "metadata": {},
     "output_type": "execute_result"
    }
   ],
   "source": [
    "pb['tradedate'] = pd.to_datetime(pb.tradedate)\n",
    "pb.dtypes"
   ]
  },
  {
   "cell_type": "code",
   "execution_count": 47,
   "metadata": {},
   "outputs": [
    {
     "data": {
      "text/html": [
       "<div>\n",
       "<style scoped>\n",
       "    .dataframe tbody tr th:only-of-type {\n",
       "        vertical-align: middle;\n",
       "    }\n",
       "\n",
       "    .dataframe tbody tr th {\n",
       "        vertical-align: top;\n",
       "    }\n",
       "\n",
       "    .dataframe thead th {\n",
       "        text-align: right;\n",
       "    }\n",
       "</style>\n",
       "<table border=\"1\" class=\"dataframe\">\n",
       "  <thead>\n",
       "    <tr style=\"text-align: right;\">\n",
       "      <th></th>\n",
       "      <th>stockcode</th>\n",
       "      <th>证券简称</th>\n",
       "      <th>ipodate</th>\n",
       "    </tr>\n",
       "  </thead>\n",
       "  <tbody>\n",
       "    <tr>\n",
       "      <th>0</th>\n",
       "      <td>000005.SZ</td>\n",
       "      <td>ST星源</td>\n",
       "      <td>1990-12-10</td>\n",
       "    </tr>\n",
       "    <tr>\n",
       "      <th>1</th>\n",
       "      <td>600651.SH</td>\n",
       "      <td>飞乐音响</td>\n",
       "      <td>1990-12-19</td>\n",
       "    </tr>\n",
       "    <tr>\n",
       "      <th>2</th>\n",
       "      <td>600653.SH</td>\n",
       "      <td>申华控股</td>\n",
       "      <td>1990-12-19</td>\n",
       "    </tr>\n",
       "    <tr>\n",
       "      <th>3</th>\n",
       "      <td>600654.SH</td>\n",
       "      <td>ST中安</td>\n",
       "      <td>1990-12-19</td>\n",
       "    </tr>\n",
       "    <tr>\n",
       "      <th>4</th>\n",
       "      <td>600602.SH</td>\n",
       "      <td>云赛智联</td>\n",
       "      <td>1990-12-19</td>\n",
       "    </tr>\n",
       "  </tbody>\n",
       "</table>\n",
       "</div>"
      ],
      "text/plain": [
       "   stockcode  证券简称     ipodate\n",
       "0  000005.SZ  ST星源  1990-12-10\n",
       "1  600651.SH  飞乐音响  1990-12-19\n",
       "2  600653.SH  申华控股  1990-12-19\n",
       "3  600654.SH  ST中安  1990-12-19\n",
       "4  600602.SH  云赛智联  1990-12-19"
      ]
     },
     "execution_count": 47,
     "metadata": {},
     "output_type": "execute_result"
    }
   ],
   "source": [
    "ipodate = pd.read_excel(r\"D:\\研究生毕设\\毕设\\value premium\\数据\\上市日期.xlsx\")\n",
    "ipodate.head()"
   ]
  },
  {
   "cell_type": "code",
   "execution_count": null,
   "metadata": {},
   "outputs": [],
   "source": [
    "price['tradedate'] = pd.to_datetime(price.tradedate)\n",
    "#ST['entry_dt'] = pd.to_datetime(ST.entry_dt)\n",
    "#ST['remove_dt'] = pd.to_datetime(ST.remove_dt)\n",
    "mkt['tradedate'] = pd.to_datetime(mkt.tradedate)\n",
    "pb['tradedate'] = pd.to_datetime(pb.tradedate)\n",
    "ipodate['ipodate'] = pd.to_datetime(ipodate.ipodate)"
   ]
  },
  {
   "cell_type": "code",
   "execution_count": 94,
   "metadata": {},
   "outputs": [
    {
     "data": {
      "text/html": [
       "<div>\n",
       "<style scoped>\n",
       "    .dataframe tbody tr th:only-of-type {\n",
       "        vertical-align: middle;\n",
       "    }\n",
       "\n",
       "    .dataframe tbody tr th {\n",
       "        vertical-align: top;\n",
       "    }\n",
       "\n",
       "    .dataframe thead th {\n",
       "        text-align: right;\n",
       "    }\n",
       "</style>\n",
       "<table border=\"1\" class=\"dataframe\">\n",
       "  <thead>\n",
       "    <tr style=\"text-align: right;\">\n",
       "      <th></th>\n",
       "      <th>stockcode</th>\n",
       "      <th>证券简称</th>\n",
       "      <th>ipodate</th>\n",
       "    </tr>\n",
       "  </thead>\n",
       "  <tbody>\n",
       "    <tr>\n",
       "      <th>0</th>\n",
       "      <td>000005.SZ</td>\n",
       "      <td>ST星源</td>\n",
       "      <td>1990-12-10</td>\n",
       "    </tr>\n",
       "    <tr>\n",
       "      <th>1</th>\n",
       "      <td>600651.SH</td>\n",
       "      <td>飞乐音响</td>\n",
       "      <td>1990-12-19</td>\n",
       "    </tr>\n",
       "    <tr>\n",
       "      <th>2</th>\n",
       "      <td>600653.SH</td>\n",
       "      <td>申华控股</td>\n",
       "      <td>1990-12-19</td>\n",
       "    </tr>\n",
       "    <tr>\n",
       "      <th>3</th>\n",
       "      <td>600654.SH</td>\n",
       "      <td>ST中安</td>\n",
       "      <td>1990-12-19</td>\n",
       "    </tr>\n",
       "    <tr>\n",
       "      <th>4</th>\n",
       "      <td>600602.SH</td>\n",
       "      <td>云赛智联</td>\n",
       "      <td>1990-12-19</td>\n",
       "    </tr>\n",
       "  </tbody>\n",
       "</table>\n",
       "</div>"
      ],
      "text/plain": [
       "   stockcode  证券简称     ipodate\n",
       "0  000005.SZ  ST星源  1990-12-10\n",
       "1  600651.SH  飞乐音响  1990-12-19\n",
       "2  600653.SH  申华控股  1990-12-19\n",
       "3  600654.SH  ST中安  1990-12-19\n",
       "4  600602.SH  云赛智联  1990-12-19"
      ]
     },
     "execution_count": 94,
     "metadata": {},
     "output_type": "execute_result"
    }
   ],
   "source": [
    "ipodate = pd.read_excel(r\"D:\\研究生毕设\\毕设\\value premium\\数据\\上市日期.xlsx\")\n",
    "ipodate.head()"
   ]
  },
  {
   "cell_type": "code",
   "execution_count": 96,
   "metadata": {},
   "outputs": [],
   "source": [
    "pb1 =pb.drop(pb[(pb['简称'].str.contains('ST') )|( pb['简称'].str.contains('ST*'))].index)"
   ]
  },
  {
   "cell_type": "code",
   "execution_count": 97,
   "metadata": {},
   "outputs": [],
   "source": [
    "BM1 =BM.drop(BM[(BM['简称'].str.contains('ST') )|(BM['简称'].str.contains('ST*'))].index)"
   ]
  },
  {
   "cell_type": "code",
   "execution_count": 98,
   "metadata": {},
   "outputs": [],
   "source": [
    "mkt1 =mkt.drop(mkt[(mkt['简称'].str.contains('ST') )|( mkt['简称'].str.contains('ST*'))].index)"
   ]
  },
  {
   "cell_type": "code",
   "execution_count": 99,
   "metadata": {},
   "outputs": [],
   "source": [
    "price1 =price.drop(price[(price['简称'].str.contains('ST') )|( price['简称'].str.contains('ST*'))].index)"
   ]
  },
  {
   "cell_type": "code",
   "execution_count": 100,
   "metadata": {},
   "outputs": [],
   "source": [
    "price1['tradedate'] = pd.to_datetime(price1.tradedate)\n",
    "mkt1['tradedate'] = pd.to_datetime(mkt1.tradedate)\n",
    "pb1['tradedate'] = pd.to_datetime(pb1.tradedate)\n",
    "BM1['tradedate'] = pd.to_datetime(BM1.tradedate)"
   ]
  },
  {
   "cell_type": "code",
   "execution_count": 101,
   "metadata": {},
   "outputs": [],
   "source": [
    "f=pd.merge(BM1,mkt1,left_on=['tradedate',\"stockcode\"],right_on=['tradedate',\"stockcode\"])\n",
    "f=f.sort_values(by=['tradedate',\"stockcode\"]).reset_index(drop=True)"
   ]
  },
  {
   "cell_type": "code",
   "execution_count": 102,
   "metadata": {},
   "outputs": [
    {
     "data": {
      "text/html": [
       "<div>\n",
       "<style scoped>\n",
       "    .dataframe tbody tr th:only-of-type {\n",
       "        vertical-align: middle;\n",
       "    }\n",
       "\n",
       "    .dataframe tbody tr th {\n",
       "        vertical-align: top;\n",
       "    }\n",
       "\n",
       "    .dataframe thead th {\n",
       "        text-align: right;\n",
       "    }\n",
       "</style>\n",
       "<table border=\"1\" class=\"dataframe\">\n",
       "  <thead>\n",
       "    <tr style=\"text-align: right;\">\n",
       "      <th></th>\n",
       "      <th>简称_x</th>\n",
       "      <th>tradedate</th>\n",
       "      <th>pb</th>\n",
       "      <th>BM</th>\n",
       "      <th>stockcode</th>\n",
       "      <th>简称_y</th>\n",
       "      <th>mkt</th>\n",
       "    </tr>\n",
       "  </thead>\n",
       "  <tbody>\n",
       "    <tr>\n",
       "      <th>0</th>\n",
       "      <td>平安银行</td>\n",
       "      <td>2000-01-28</td>\n",
       "      <td>7.3283</td>\n",
       "      <td>0.136457</td>\n",
       "      <td>000001.SZ</td>\n",
       "      <td>平安银行</td>\n",
       "      <td>28709171202</td>\n",
       "    </tr>\n",
       "    <tr>\n",
       "      <th>1</th>\n",
       "      <td>万科A</td>\n",
       "      <td>2000-01-28</td>\n",
       "      <td>3.2113</td>\n",
       "      <td>0.311400</td>\n",
       "      <td>000002.SZ</td>\n",
       "      <td>万科A</td>\n",
       "      <td>6656753978</td>\n",
       "    </tr>\n",
       "    <tr>\n",
       "      <th>2</th>\n",
       "      <td>国华网安</td>\n",
       "      <td>2000-01-28</td>\n",
       "      <td>16.0083</td>\n",
       "      <td>0.062468</td>\n",
       "      <td>000004.SZ</td>\n",
       "      <td>国华网安</td>\n",
       "      <td>1125287566</td>\n",
       "    </tr>\n",
       "    <tr>\n",
       "      <th>3</th>\n",
       "      <td>深振业A</td>\n",
       "      <td>2000-01-28</td>\n",
       "      <td>2.4339</td>\n",
       "      <td>0.410863</td>\n",
       "      <td>000006.SZ</td>\n",
       "      <td>深振业A</td>\n",
       "      <td>2786972025</td>\n",
       "    </tr>\n",
       "    <tr>\n",
       "      <th>4</th>\n",
       "      <td>神州高铁</td>\n",
       "      <td>2000-01-28</td>\n",
       "      <td>68.7030</td>\n",
       "      <td>0.014555</td>\n",
       "      <td>000008.SZ</td>\n",
       "      <td>神州高铁</td>\n",
       "      <td>6702441928</td>\n",
       "    </tr>\n",
       "  </tbody>\n",
       "</table>\n",
       "</div>"
      ],
      "text/plain": [
       "   简称_x  tradedate       pb        BM  stockcode  简称_y          mkt\n",
       "0  平安银行 2000-01-28   7.3283  0.136457  000001.SZ  平安银行  28709171202\n",
       "1   万科A 2000-01-28   3.2113  0.311400  000002.SZ   万科A   6656753978\n",
       "2  国华网安 2000-01-28  16.0083  0.062468  000004.SZ  国华网安   1125287566\n",
       "3  深振业A 2000-01-28   2.4339  0.410863  000006.SZ  深振业A   2786972025\n",
       "4  神州高铁 2000-01-28  68.7030  0.014555  000008.SZ  神州高铁   6702441928"
      ]
     },
     "execution_count": 102,
     "metadata": {},
     "output_type": "execute_result"
    }
   ],
   "source": [
    "f.head()"
   ]
  },
  {
   "cell_type": "code",
   "execution_count": 103,
   "metadata": {},
   "outputs": [],
   "source": [
    "f['tradedate'] = pd.to_datetime(f.tradedate)\n",
    "f.dtypes\n",
    "ipodate['ipodate'] = pd.to_datetime(ipodate.ipodate)"
   ]
  },
  {
   "cell_type": "code",
   "execution_count": 104,
   "metadata": {},
   "outputs": [],
   "source": [
    "import datetime"
   ]
  },
  {
   "cell_type": "code",
   "execution_count": 105,
   "metadata": {},
   "outputs": [],
   "source": [
    "#先计算上市一年后的日期，然后用交易日和该日期进行比较，只保留上市一年后的数据\n",
    "ipodate['entrydate']=ipodate['ipodate']+datetime.timedelta(365)\n",
    "\n",
    "#将其合并进因子数据（左连接）\n",
    "f=pd.merge(f,ipodate,how='left',left_on='stockcode',right_on='stockcode')\n",
    "\n",
    "#选取数据\n",
    "f=f.loc[f.tradedate>=f.entrydate].reset_index(drop=True)\n",
    "f.drop(['ipodate','entrydate'],axis=1,inplace=True)"
   ]
  },
  {
   "cell_type": "code",
   "execution_count": 106,
   "metadata": {},
   "outputs": [
    {
     "data": {
      "text/html": [
       "<div>\n",
       "<style scoped>\n",
       "    .dataframe tbody tr th:only-of-type {\n",
       "        vertical-align: middle;\n",
       "    }\n",
       "\n",
       "    .dataframe tbody tr th {\n",
       "        vertical-align: top;\n",
       "    }\n",
       "\n",
       "    .dataframe thead th {\n",
       "        text-align: right;\n",
       "    }\n",
       "</style>\n",
       "<table border=\"1\" class=\"dataframe\">\n",
       "  <thead>\n",
       "    <tr style=\"text-align: right;\">\n",
       "      <th></th>\n",
       "      <th>简称_x</th>\n",
       "      <th>tradedate</th>\n",
       "      <th>pb</th>\n",
       "      <th>BM</th>\n",
       "      <th>stockcode</th>\n",
       "      <th>简称_y</th>\n",
       "      <th>mkt</th>\n",
       "      <th>证券简称</th>\n",
       "      <th>ym</th>\n",
       "    </tr>\n",
       "  </thead>\n",
       "  <tbody>\n",
       "    <tr>\n",
       "      <th>0</th>\n",
       "      <td>平安银行</td>\n",
       "      <td>2000-01-28</td>\n",
       "      <td>7.3283</td>\n",
       "      <td>0.136457</td>\n",
       "      <td>000001.SZ</td>\n",
       "      <td>平安银行</td>\n",
       "      <td>28709171202</td>\n",
       "      <td>平安银行</td>\n",
       "      <td>200001</td>\n",
       "    </tr>\n",
       "    <tr>\n",
       "      <th>1</th>\n",
       "      <td>万科A</td>\n",
       "      <td>2000-01-28</td>\n",
       "      <td>3.2113</td>\n",
       "      <td>0.311400</td>\n",
       "      <td>000002.SZ</td>\n",
       "      <td>万科A</td>\n",
       "      <td>6656753978</td>\n",
       "      <td>万科A</td>\n",
       "      <td>200001</td>\n",
       "    </tr>\n",
       "    <tr>\n",
       "      <th>2</th>\n",
       "      <td>国华网安</td>\n",
       "      <td>2000-01-28</td>\n",
       "      <td>16.0083</td>\n",
       "      <td>0.062468</td>\n",
       "      <td>000004.SZ</td>\n",
       "      <td>国华网安</td>\n",
       "      <td>1125287566</td>\n",
       "      <td>国华网安</td>\n",
       "      <td>200001</td>\n",
       "    </tr>\n",
       "    <tr>\n",
       "      <th>3</th>\n",
       "      <td>深振业A</td>\n",
       "      <td>2000-01-28</td>\n",
       "      <td>2.4339</td>\n",
       "      <td>0.410863</td>\n",
       "      <td>000006.SZ</td>\n",
       "      <td>深振业A</td>\n",
       "      <td>2786972025</td>\n",
       "      <td>深振业A</td>\n",
       "      <td>200001</td>\n",
       "    </tr>\n",
       "    <tr>\n",
       "      <th>4</th>\n",
       "      <td>神州高铁</td>\n",
       "      <td>2000-01-28</td>\n",
       "      <td>68.7030</td>\n",
       "      <td>0.014555</td>\n",
       "      <td>000008.SZ</td>\n",
       "      <td>神州高铁</td>\n",
       "      <td>6702441928</td>\n",
       "      <td>神州高铁</td>\n",
       "      <td>200001</td>\n",
       "    </tr>\n",
       "  </tbody>\n",
       "</table>\n",
       "</div>"
      ],
      "text/plain": [
       "   简称_x  tradedate       pb        BM  stockcode  简称_y          mkt  证券简称  \\\n",
       "0  平安银行 2000-01-28   7.3283  0.136457  000001.SZ  平安银行  28709171202  平安银行   \n",
       "1   万科A 2000-01-28   3.2113  0.311400  000002.SZ   万科A   6656753978   万科A   \n",
       "2  国华网安 2000-01-28  16.0083  0.062468  000004.SZ  国华网安   1125287566  国华网安   \n",
       "3  深振业A 2000-01-28   2.4339  0.410863  000006.SZ  深振业A   2786972025  深振业A   \n",
       "4  神州高铁 2000-01-28  68.7030  0.014555  000008.SZ  神州高铁   6702441928  神州高铁   \n",
       "\n",
       "       ym  \n",
       "0  200001  \n",
       "1  200001  \n",
       "2  200001  \n",
       "3  200001  \n",
       "4  200001  "
      ]
     },
     "execution_count": 106,
     "metadata": {},
     "output_type": "execute_result"
    }
   ],
   "source": [
    "f['ym']=f.tradedate.apply(lambda x : x.year*100 + x.month)\n",
    "f.head()"
   ]
  }
 ],
 "metadata": {
  "interpreter": {
   "hash": "cc5f70855ac006f3de45a3cc3b9e7d8d53845e50458809cb162b0174266dec97"
  },
  "kernelspec": {
   "display_name": "Python 3.9.7 ('base')",
   "language": "python",
   "name": "python3"
  },
  "language_info": {
   "codemirror_mode": {
    "name": "ipython",
    "version": 3
   },
   "file_extension": ".py",
   "mimetype": "text/x-python",
   "name": "python",
   "nbconvert_exporter": "python",
   "pygments_lexer": "ipython3",
   "version": "3.9.7"
  },
  "orig_nbformat": 4
 },
 "nbformat": 4,
 "nbformat_minor": 2
}
